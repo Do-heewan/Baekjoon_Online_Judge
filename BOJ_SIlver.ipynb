{
 "cells": [
  {
   "cell_type": "code",
   "execution_count": null,
   "metadata": {},
   "outputs": [
    {
     "name": "stdout",
     "output_type": "stream",
     "text": [
      "v\n",
      "asd\n",
      "qwe\n"
     ]
    }
   ],
   "source": [
    "# 1181 단어 정렬\n",
    "\n",
    "n = int(input())\n",
    "word = []\n",
    "\n",
    "for i in range(n):\n",
    "    word.append(input())\n",
    "\n",
    "set_word = set(word) # 리스트를 집합으로 변환, 중복 제거\n",
    "word = list(set_word) # 집합을 리스트로 변환\n",
    "\n",
    "word.sort()\t# 괄호 안에 아무 값도 넣지 않으면 알파벳 순서대로 정렬을 해 준다.\n",
    "word.sort(key = len) # 문자열 길이 순으로 정렬.\n",
    "\n",
    "for i in word:\n",
    "    print(i)"
   ]
  },
  {
   "cell_type": "code",
   "execution_count": null,
   "metadata": {},
   "outputs": [],
   "source": [
    "# 1181 단어 정렬 (백준 제출용, input() 보다 속도가 훨씬 빠르다.)\n",
    "\n",
    "import sys\n",
    "\n",
    "n = int(sys.stdin.readline())\n",
    "word = []\n",
    "\n",
    "for i in range(n):\n",
    "    word.append(sys.stdin.readline().strip())\n",
    "\n",
    "set_word = set(word) # 리스트를 집합으로 변환, 중복 제거\n",
    "word = list(set_word) # 집합을 리스트로 변환\n",
    "\n",
    "word.sort()\t# 괄호 안에 아무 값도 넣지 않으면 알파벳 순서대로 정렬을 해 준다.\n",
    "word.sort(key = len) # 문자열 길이 순으로 정렬.\n",
    "\n",
    "for i in word:\n",
    "    print(i)"
   ]
  },
  {
   "cell_type": "code",
   "execution_count": null,
   "metadata": {},
   "outputs": [
    {
     "name": "stdout",
     "output_type": "stream",
     "text": [
      "2666\n"
     ]
    }
   ],
   "source": [
    "# 1436 영화감독 슘\n",
    "\n",
    "n = int(input())\n",
    "\n",
    "count = 0\n",
    "num = 666\n",
    "\n",
    "while True:\n",
    "    if (\"666\" in str(num)):\n",
    "        count += 1\n",
    "\n",
    "    if (count == n):\n",
    "        break\n",
    "\n",
    "    num += 1\n",
    "\n",
    "print(num)"
   ]
  },
  {
   "cell_type": "code",
   "execution_count": 9,
   "metadata": {},
   "outputs": [
    {
     "name": "stdout",
     "output_type": "stream",
     "text": [
      "1\n",
      "2\n",
      "2\n",
      "3\n",
      "3\n",
      "4\n",
      "5\n",
      "5\n",
      "7\n",
      "7\n"
     ]
    }
   ],
   "source": [
    "# 2751 수 정렬하기 2\n",
    "\n",
    "n = int(input())\n",
    "\n",
    "lst = []\n",
    "for i in range(n):\n",
    "    num = int(input())\n",
    "    lst.append(num)\n",
    "\n",
    "lst.sort()\n",
    "\n",
    "for i in lst:\n",
    "    print(i)"
   ]
  },
  {
   "cell_type": "code",
   "execution_count": null,
   "metadata": {},
   "outputs": [],
   "source": [
    "# 2751 수 정렬하기 2 (백준 제출)\n",
    "\n",
    "import sys\n",
    "\n",
    "n = int(sys.stdin.readline())\n",
    "\n",
    "lst = []\n",
    "for i in range(n):\n",
    "    num = int(sys.stdin.readline().strip())\n",
    "    lst.append(num)\n",
    "\n",
    "lst.sort()\n",
    "\n",
    "for i in lst:\n",
    "    print(i)"
   ]
  },
  {
   "cell_type": "code",
   "execution_count": 2,
   "metadata": {},
   "outputs": [
    {
     "ename": "ValueError",
     "evalue": "invalid literal for int() with base 10: ''",
     "output_type": "error",
     "traceback": [
      "\u001b[1;31m---------------------------------------------------------------------------\u001b[0m",
      "\u001b[1;31mValueError\u001b[0m                                Traceback (most recent call last)",
      "Cell \u001b[1;32mIn[2], line 3\u001b[0m\n\u001b[0;32m      1\u001b[0m \u001b[38;5;66;03m# 10814 나이순 정렬\u001b[39;00m\n\u001b[1;32m----> 3\u001b[0m n \u001b[38;5;241m=\u001b[39m \u001b[38;5;28mint\u001b[39m(\u001b[38;5;28minput\u001b[39m())\n\u001b[0;32m      5\u001b[0m lst \u001b[38;5;241m=\u001b[39m []\n\u001b[0;32m      6\u001b[0m \u001b[38;5;28;01mfor\u001b[39;00m i \u001b[38;5;129;01min\u001b[39;00m \u001b[38;5;28mrange\u001b[39m(n):\n",
      "\u001b[1;31mValueError\u001b[0m: invalid literal for int() with base 10: ''"
     ]
    }
   ],
   "source": [
    "# 10814 나이순 정렬\n",
    "\n",
    "n = int(input())\n",
    "\n",
    "lst = []\n",
    "for i in range(n):\n",
    "    age, name = input().split()\n",
    "    lst.append([age, name])\n",
    "\n",
    "lst.sort(key = lambda x : int(x[0]))\n",
    "\n",
    "for i in lst:\n",
    "    print(i[0], i[1])"
   ]
  },
  {
   "cell_type": "code",
   "execution_count": null,
   "metadata": {},
   "outputs": [],
   "source": [
    "# 10814 나이순 정렬 (백준 제출)\n",
    "\n",
    "import sys\n",
    "\n",
    "n = int(sys.stdin.readline())\n",
    "\n",
    "lst = []\n",
    "for i in range(n):\n",
    "    [age, name] = sys.stdin.readline().split()\n",
    "    lst.append([age, name])\n",
    "\n",
    "lst.sort(key = lambda x : int(x[0]))\n",
    "\n",
    "for i in lst:\n",
    "    print(i[0], i[1])"
   ]
  },
  {
   "cell_type": "code",
   "execution_count": null,
   "metadata": {},
   "outputs": [
    {
     "ename": "TypeError",
     "evalue": "'>' not supported between instances of 'list' and 'int'",
     "output_type": "error",
     "traceback": [
      "\u001b[1;31m---------------------------------------------------------------------------\u001b[0m",
      "\u001b[1;31mTypeError\u001b[0m                                 Traceback (most recent call last)",
      "Cell \u001b[1;32mIn[14], line 11\u001b[0m\n\u001b[0;32m      7\u001b[0m     num \u001b[38;5;241m=\u001b[39m \u001b[38;5;28mint\u001b[39m(\u001b[38;5;28minput\u001b[39m())\n\u001b[0;32m      8\u001b[0m     count[num] \u001b[38;5;241m+\u001b[39m\u001b[38;5;241m=\u001b[39m \u001b[38;5;241m1\u001b[39m\n\u001b[1;32m---> 11\u001b[0m \u001b[38;5;28;01mif\u001b[39;00m (count \u001b[38;5;241m>\u001b[39m \u001b[38;5;241m0\u001b[39m):\n\u001b[0;32m     12\u001b[0m     \u001b[38;5;28;01mfor\u001b[39;00m j \u001b[38;5;129;01min\u001b[39;00m \u001b[38;5;28mrange\u001b[39m(\u001b[38;5;28mlen\u001b[39m(count)):\n\u001b[0;32m     13\u001b[0m         \u001b[38;5;28mprint\u001b[39m(j)\n",
      "\u001b[1;31mTypeError\u001b[0m: '>' not supported between instances of 'list' and 'int'"
     ]
    }
   ],
   "source": [
    "# 10989 수 정렬하기 3\n",
    "\n",
    "import sys\n",
    "\n",
    "n = int(sys.stdin.readline().rstrip())\n",
    "\n",
    "count = [0] * 10001 # 0 ~ 10000 까지의 인덱스 번호를 가지는 배열\n",
    "for i in range(n):\n",
    "    num = int(sys.stdin.readline().rstrip())\n",
    "    count[num] += 1 # 입력 받은 숫자에 해당하는 인덱스를 증가시킴\n",
    "\n",
    "for j in range(len(count)):\n",
    "    if (count[j] > 0): # 앞서 입력 받은 인덱스만 추림\n",
    "        for k in range(count[j]): # 몇 번 출력할 것인가\n",
    "            print(j)"
   ]
  },
  {
   "cell_type": "code",
   "execution_count": null,
   "metadata": {},
   "outputs": [],
   "source": [
    "# 1676 팩토리얼 0의 갯수\n",
    "\n",
    "n = int(input())\n",
    "cnt = 0\n",
    "\n",
    "while(n>1):\n",
    "    cnt += n // 5\n",
    "    n = n // 5\n",
    "\n",
    "print(cnt)"
   ]
  },
  {
   "cell_type": "code",
   "execution_count": 12,
   "metadata": {},
   "outputs": [
    {
     "name": "stdout",
     "output_type": "stream",
     "text": [
      "1 -1\n",
      "1 1\n",
      "2 1\n",
      "2 3\n",
      "4 5\n"
     ]
    }
   ],
   "source": [
    "# 11650 좌표 정렬하기\n",
    "\n",
    "n = int(input())\n",
    "\n",
    "li = []\n",
    "for i in range(n):\n",
    "    [h, w] = input().split()\n",
    "    li.append([h, w])\n",
    "\n",
    "li.sort(key = lambda x : (int(x[0]), int(x[1])))\n",
    "\n",
    "for j in li:\n",
    "    print(j[0], j[1])"
   ]
  },
  {
   "cell_type": "code",
   "execution_count": null,
   "metadata": {},
   "outputs": [],
   "source": [
    "import sys\n",
    "\n",
    "n = int(sys.stdin.readline().rstrip())\n",
    "\n",
    "lst = []\n",
    "for i in range(n):\n",
    "    [height, weight] = sys.stdin.readline().split()\n",
    "    lst.append([height, weight])\n",
    "\n",
    "lst.sort(key = lambda x : (int(x[0]), int(x[1])))\n",
    "\n",
    "for j in lst:\n",
    "    print(j[0], j[1])"
   ]
  },
  {
   "cell_type": "code",
   "execution_count": 13,
   "metadata": {},
   "outputs": [
    {
     "name": "stdout",
     "output_type": "stream",
     "text": [
      "1 -1\n",
      "1 2\n",
      "2 2\n",
      "3 3\n",
      "0 4\n"
     ]
    }
   ],
   "source": [
    "# 11651 좌표 정렬하기 2\n",
    "\n",
    "n = int(input())\n",
    "\n",
    "li = []\n",
    "for i in range(n):\n",
    "    [h, w] = input().split()\n",
    "    li.append([h, w])\n",
    "\n",
    "li.sort(key = lambda x : (int(x[1]), int(x[0])))\n",
    "\n",
    "for j in li:\n",
    "    print(j[0], j[1])"
   ]
  },
  {
   "cell_type": "code",
   "execution_count": null,
   "metadata": {},
   "outputs": [],
   "source": [
    "import sys\n",
    "\n",
    "n = int(sys.stdin.readline().rstrip())\n",
    "\n",
    "lst = []\n",
    "for i in range(n):\n",
    "    [height, weight] = sys.stdin.readline().split()\n",
    "    lst.append([height, weight])\n",
    "\n",
    "lst.sort(key = lambda x : (int(x[1]), int(x[0])))\n",
    "\n",
    "for j in lst:\n",
    "    print(j[0], j[1])"
   ]
  }
 ],
 "metadata": {
  "kernelspec": {
   "display_name": "base",
   "language": "python",
   "name": "python3"
  },
  "language_info": {
   "codemirror_mode": {
    "name": "ipython",
    "version": 3
   },
   "file_extension": ".py",
   "mimetype": "text/x-python",
   "name": "python",
   "nbconvert_exporter": "python",
   "pygments_lexer": "ipython3",
   "version": "3.11.9"
  }
 },
 "nbformat": 4,
 "nbformat_minor": 2
}
