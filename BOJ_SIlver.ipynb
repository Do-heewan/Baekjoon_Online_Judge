{
 "cells": [
  {
   "cell_type": "code",
   "execution_count": null,
   "metadata": {},
   "outputs": [
    {
     "name": "stdout",
     "output_type": "stream",
     "text": [
      "v\n",
      "asd\n",
      "qwe\n"
     ]
    }
   ],
   "source": [
    "# 1181 단어 정렬\n",
    "\n",
    "n = int(input())\n",
    "word = []\n",
    "\n",
    "for i in range(n):\n",
    "    word.append(input())\n",
    "\n",
    "set_word = set(word) # 리스트를 집합으로 변환, 중복 제거\n",
    "word = list(set_word) # 집합을 리스트로 변환\n",
    "\n",
    "word.sort()\t# 괄호 안에 아무 값도 넣지 않으면 알파벳 순서대로 정렬을 해 준다.\n",
    "word.sort(key = len) # 문자열 길이 순으로 정렬.\n",
    "\n",
    "for i in word:\n",
    "    print(i)"
   ]
  },
  {
   "cell_type": "code",
   "execution_count": null,
   "metadata": {},
   "outputs": [],
   "source": [
    "# 1181 단어 정렬 (백준 제출용, input() 보다 속도가 훨씬 빠르다.)\n",
    "\n",
    "import sys\n",
    "\n",
    "n = int(sys.stdin.readline())\n",
    "word = []\n",
    "\n",
    "for i in range(n):\n",
    "    word.append(sys.stdin.readline().strip())\n",
    "\n",
    "set_word = set(word) # 리스트를 집합으로 변환, 중복 제거\n",
    "word = list(set_word) # 집합을 리스트로 변환\n",
    "\n",
    "word.sort()\t# 괄호 안에 아무 값도 넣지 않으면 알파벳 순서대로 정렬을 해 준다.\n",
    "word.sort(key = len) # 문자열 길이 순으로 정렬.\n",
    "\n",
    "for i in word:\n",
    "    print(i)"
   ]
  },
  {
   "cell_type": "code",
   "execution_count": null,
   "metadata": {},
   "outputs": [
    {
     "name": "stdout",
     "output_type": "stream",
     "text": [
      "2666\n"
     ]
    }
   ],
   "source": [
    "# 1436 영화감독 슘\n",
    "\n",
    "n = int(input())\n",
    "\n",
    "count = 0\n",
    "num = 666\n",
    "\n",
    "while True:\n",
    "    if (\"666\" in str(num)):\n",
    "        count += 1\n",
    "\n",
    "    if (count == n):\n",
    "        break\n",
    "\n",
    "    num += 1\n",
    "\n",
    "print(num)"
   ]
  },
  {
   "cell_type": "code",
   "execution_count": 9,
   "metadata": {},
   "outputs": [
    {
     "name": "stdout",
     "output_type": "stream",
     "text": [
      "1\n",
      "2\n",
      "2\n",
      "3\n",
      "3\n",
      "4\n",
      "5\n",
      "5\n",
      "7\n",
      "7\n"
     ]
    }
   ],
   "source": [
    "# 2751 수 정렬하기 2\n",
    "\n",
    "n = int(input())\n",
    "\n",
    "lst = []\n",
    "for i in range(n):\n",
    "    num = int(input())\n",
    "    lst.append(num)\n",
    "\n",
    "lst.sort()\n",
    "\n",
    "for i in lst:\n",
    "    print(i)"
   ]
  },
  {
   "cell_type": "code",
   "execution_count": null,
   "metadata": {},
   "outputs": [],
   "source": [
    "# 2751 수 정렬하기 2 (백준 제출)\n",
    "\n",
    "import sys\n",
    "\n",
    "n = int(sys.stdin.readline())\n",
    "\n",
    "lst = []\n",
    "for i in range(n):\n",
    "    num = int(sys.stdin.readline().strip())\n",
    "    lst.append(num)\n",
    "\n",
    "lst.sort()\n",
    "\n",
    "for i in lst:\n",
    "    print(i)"
   ]
  },
  {
   "cell_type": "code",
   "execution_count": 2,
   "metadata": {},
   "outputs": [
    {
     "ename": "ValueError",
     "evalue": "invalid literal for int() with base 10: ''",
     "output_type": "error",
     "traceback": [
      "\u001b[1;31m---------------------------------------------------------------------------\u001b[0m",
      "\u001b[1;31mValueError\u001b[0m                                Traceback (most recent call last)",
      "Cell \u001b[1;32mIn[2], line 3\u001b[0m\n\u001b[0;32m      1\u001b[0m \u001b[38;5;66;03m# 10814 나이순 정렬\u001b[39;00m\n\u001b[1;32m----> 3\u001b[0m n \u001b[38;5;241m=\u001b[39m \u001b[38;5;28mint\u001b[39m(\u001b[38;5;28minput\u001b[39m())\n\u001b[0;32m      5\u001b[0m lst \u001b[38;5;241m=\u001b[39m []\n\u001b[0;32m      6\u001b[0m \u001b[38;5;28;01mfor\u001b[39;00m i \u001b[38;5;129;01min\u001b[39;00m \u001b[38;5;28mrange\u001b[39m(n):\n",
      "\u001b[1;31mValueError\u001b[0m: invalid literal for int() with base 10: ''"
     ]
    }
   ],
   "source": [
    "# 10814 나이순 정렬\n",
    "\n",
    "n = int(input())\n",
    "\n",
    "lst = []\n",
    "for i in range(n):\n",
    "    age, name = input().split()\n",
    "    lst.append([age, name])\n",
    "\n",
    "lst.sort(key = lambda x : int(x[0]))\n",
    "\n",
    "for i in lst:\n",
    "    print(i[0], i[1])"
   ]
  },
  {
   "cell_type": "code",
   "execution_count": null,
   "metadata": {},
   "outputs": [],
   "source": [
    "# 10814 나이순 정렬 (백준 제출)\n",
    "\n",
    "import sys\n",
    "\n",
    "n = int(sys.stdin.readline())\n",
    "\n",
    "lst = []\n",
    "for i in range(n):\n",
    "    [age, name] = sys.stdin.readline().split()\n",
    "    lst.append([age, name])\n",
    "\n",
    "lst.sort(key = lambda x : int(x[0]))\n",
    "\n",
    "for i in lst:\n",
    "    print(i[0], i[1])"
   ]
  },
  {
   "cell_type": "code",
   "execution_count": null,
   "metadata": {},
   "outputs": [
    {
     "ename": "TypeError",
     "evalue": "'>' not supported between instances of 'list' and 'int'",
     "output_type": "error",
     "traceback": [
      "\u001b[1;31m---------------------------------------------------------------------------\u001b[0m",
      "\u001b[1;31mTypeError\u001b[0m                                 Traceback (most recent call last)",
      "Cell \u001b[1;32mIn[14], line 11\u001b[0m\n\u001b[0;32m      7\u001b[0m     num \u001b[38;5;241m=\u001b[39m \u001b[38;5;28mint\u001b[39m(\u001b[38;5;28minput\u001b[39m())\n\u001b[0;32m      8\u001b[0m     count[num] \u001b[38;5;241m+\u001b[39m\u001b[38;5;241m=\u001b[39m \u001b[38;5;241m1\u001b[39m\n\u001b[1;32m---> 11\u001b[0m \u001b[38;5;28;01mif\u001b[39;00m (count \u001b[38;5;241m>\u001b[39m \u001b[38;5;241m0\u001b[39m):\n\u001b[0;32m     12\u001b[0m     \u001b[38;5;28;01mfor\u001b[39;00m j \u001b[38;5;129;01min\u001b[39;00m \u001b[38;5;28mrange\u001b[39m(\u001b[38;5;28mlen\u001b[39m(count)):\n\u001b[0;32m     13\u001b[0m         \u001b[38;5;28mprint\u001b[39m(j)\n",
      "\u001b[1;31mTypeError\u001b[0m: '>' not supported between instances of 'list' and 'int'"
     ]
    }
   ],
   "source": [
    "# 10989 수 정렬하기 3\n",
    "\n",
    "import sys\n",
    "\n",
    "n = int(sys.stdin.readline().rstrip())\n",
    "\n",
    "count = [0] * 10001 # 0 ~ 10000 까지의 인덱스 번호를 가지는 배열\n",
    "for i in range(n):\n",
    "    num = int(sys.stdin.readline().rstrip())\n",
    "    count[num] += 1 # 입력 받은 숫자에 해당하는 인덱스를 증가시킴\n",
    "\n",
    "for j in range(len(count)):\n",
    "    if (count[j] > 0): # 앞서 입력 받은 인덱스만 추림\n",
    "        for k in range(count[j]): # 몇 번 출력할 것인가\n",
    "            print(j)"
   ]
  },
  {
   "cell_type": "code",
   "execution_count": null,
   "metadata": {},
   "outputs": [],
   "source": [
    "# 1676 팩토리얼 0의 갯수\n",
    "\n",
    "n = int(input())\n",
    "cnt = 0\n",
    "\n",
    "while(n > 1):\n",
    "    cnt += n // 5\n",
    "    n = n // 5\n",
    "\n",
    "print(cnt)"
   ]
  },
  {
   "cell_type": "code",
   "execution_count": 12,
   "metadata": {},
   "outputs": [
    {
     "name": "stdout",
     "output_type": "stream",
     "text": [
      "1 -1\n",
      "1 1\n",
      "2 1\n",
      "2 3\n",
      "4 5\n"
     ]
    }
   ],
   "source": [
    "# 11650 좌표 정렬하기\n",
    "\n",
    "n = int(input())\n",
    "\n",
    "li = []\n",
    "for i in range(n):\n",
    "    [h, w] = input().split()\n",
    "    li.append([h, w])\n",
    "\n",
    "li.sort(key = lambda x : (int(x[0]), int(x[1])))\n",
    "\n",
    "for j in li:\n",
    "    print(j[0], j[1])"
   ]
  },
  {
   "cell_type": "code",
   "execution_count": null,
   "metadata": {},
   "outputs": [],
   "source": [
    "import sys\n",
    "\n",
    "n = int(sys.stdin.readline().rstrip())\n",
    "\n",
    "lst = []\n",
    "for i in range(n):\n",
    "    [height, weight] = sys.stdin.readline().split()\n",
    "    lst.append([height, weight])\n",
    "\n",
    "lst.sort(key = lambda x : (int(x[0]), int(x[1])))\n",
    "\n",
    "for j in lst:\n",
    "    print(j[0], j[1])"
   ]
  },
  {
   "cell_type": "code",
   "execution_count": 13,
   "metadata": {},
   "outputs": [
    {
     "name": "stdout",
     "output_type": "stream",
     "text": [
      "1 -1\n",
      "1 2\n",
      "2 2\n",
      "3 3\n",
      "0 4\n"
     ]
    }
   ],
   "source": [
    "# 11651 좌표 정렬하기 2\n",
    "\n",
    "n = int(input())\n",
    "\n",
    "li = []\n",
    "for i in range(n):\n",
    "    [h, w] = input().split()\n",
    "    li.append([h, w])\n",
    "\n",
    "li.sort(key = lambda x : (int(x[1]), int(x[0])))\n",
    "\n",
    "for j in li:\n",
    "    print(j[0], j[1])"
   ]
  },
  {
   "cell_type": "code",
   "execution_count": null,
   "metadata": {},
   "outputs": [],
   "source": [
    "import sys\n",
    "\n",
    "n = int(sys.stdin.readline().rstrip())\n",
    "\n",
    "lst = []\n",
    "for i in range(n):\n",
    "    [height, weight] = sys.stdin.readline().split()\n",
    "    lst.append([height, weight])\n",
    "\n",
    "lst.sort(key = lambda x : (int(x[1]), int(x[0])))\n",
    "\n",
    "for j in lst:\n",
    "    print(j[0], j[1])"
   ]
  },
  {
   "cell_type": "code",
   "execution_count": null,
   "metadata": {},
   "outputs": [],
   "source": [
    "# 11723 집합\n",
    "# Cursor AI\n",
    "\n",
    "import sys\n",
    "input = sys.stdin.readline\n",
    "\n",
    "n = int(input())\n",
    "s = set()\n",
    "\n",
    "for _ in range(n):\n",
    "    cmd = input().strip().split()\n",
    "    \n",
    "    if len(cmd) == 1:  # all 또는 empty 명령어\n",
    "        if cmd[0] == \"all\":\n",
    "            s = set(range(1, 21))\n",
    "        else:  # empty\n",
    "            s = set()\n",
    "        continue\n",
    "        \n",
    "    op, x = cmd[0], int(cmd[1])  # 명령어와 숫자를 분리\n",
    "    \n",
    "    if op == \"add\":\n",
    "        s.add(x)\n",
    "    elif op == \"remove\":\n",
    "        s.discard(x)\n",
    "    elif op == \"check\":\n",
    "        print(1 if x in s else 0)\n",
    "    elif op == \"toggle\":\n",
    "        if x in s:\n",
    "            s.discard(x)\n",
    "        else:\n",
    "            s.add(x)"
   ]
  },
  {
   "cell_type": "code",
   "execution_count": null,
   "metadata": {},
   "outputs": [
    {
     "name": "stdout",
     "output_type": "stream",
     "text": [
      "2\n",
      "ba\n",
      "oh\n"
     ]
    }
   ],
   "source": [
    "# 1764 듣보잡\n",
    "\n",
    "import sys\n",
    "\n",
    "n, m = map(int, (sys.stdin.readline().split()))\n",
    "\n",
    "# set 생성\n",
    "n_list = set()\n",
    "m_list = set()\n",
    "\n",
    "for i in range(n):\n",
    "    name1 = sys.stdin.readline().rstrip()\n",
    "    n_list.add(name1)\n",
    "for j in range(m):\n",
    "    name2 = sys.stdin.readline().rstrip()\n",
    "    m_list.add(name2)\n",
    "\n",
    "sum_list = n_list & m_list # 교집합\n",
    "print(len(sum_list))\n",
    "\n",
    "sum_list = list(sum_list) # 리스트 변환 후 정렬\n",
    "sum_list.sort()\n",
    "for k in sum_list: # 원소 출력\n",
    "    print(k)"
   ]
  },
  {
   "cell_type": "code",
   "execution_count": null,
   "metadata": {},
   "outputs": [
    {
     "name": "stdout",
     "output_type": "stream",
     "text": [
      "2 1\n",
      "3 1\n",
      "4 2\n",
      "5 3\n",
      "6 2\n",
      "7 3\n",
      "8 3\n",
      "9 2\n",
      "10 3\n",
      "3\n"
     ]
    }
   ],
   "source": [
    "# 1463 1로 만들기\n",
    "\n",
    "n = int(input())\n",
    "\n",
    "d = [0] * (n + 1) # 입력 수의 크기 리스트 생성\n",
    "for i in range(2, n + 1):\n",
    "    d[i] = d[i - 1] + 1 # 1을 뺀 경우\n",
    "    if i % 3 == 0:\n",
    "        d[i] = min(d[i], d[i // 3] + 1) # 3으로 나누었을 때와 1을 뺏을 때의 연산 횟수 비교\n",
    "    if i % 2 == 0:\n",
    "        d[i] = min(d[i], d[i // 2] + 1) # 2로 나누었을 때와 1을 뺏을 때의 연산 횟수 비교\n",
    "\n",
    "print(d[n])"
   ]
  },
  {
   "cell_type": "code",
   "execution_count": null,
   "metadata": {},
   "outputs": [
    {
     "name": "stdout",
     "output_type": "stream",
     "text": [
      "1\n",
      "2\n",
      "4\n",
      "7\n",
      "13\n",
      "24\n",
      "44\n",
      "81\n",
      "149\n",
      "274\n"
     ]
    }
   ],
   "source": [
    "# 9095 1, 2, 3 더하기\n",
    "\n",
    "n = int(input())\n",
    "\n",
    "for T in range(n):\n",
    "    n, i = int(input()), 4\n",
    "    plus = [None, 1, 2, 4]\n",
    "\n",
    "    while i <= n:\n",
    "        plus.append(plus[i - 1] + plus[i - 2] + plus[i - 3]) # 리스트의 이전 인덱스들의 합\n",
    "        i += 1\n",
    "\n",
    "    print(plus[n])"
   ]
  },
  {
   "cell_type": "code",
   "execution_count": null,
   "metadata": {},
   "outputs": [
    {
     "ename": "ValueError",
     "evalue": "invalid literal for int() with base 10: ''",
     "output_type": "error",
     "traceback": [
      "\u001b[1;31m---------------------------------------------------------------------------\u001b[0m",
      "\u001b[1;31mValueError\u001b[0m                                Traceback (most recent call last)",
      "Cell \u001b[1;32mIn[8], line 3\u001b[0m\n\u001b[0;32m      1\u001b[0m \u001b[38;5;66;03m# 11399 ATM\u001b[39;00m\n\u001b[1;32m----> 3\u001b[0m n \u001b[38;5;241m=\u001b[39m \u001b[38;5;28mint\u001b[39m(\u001b[38;5;28minput\u001b[39m())\n\u001b[0;32m      4\u001b[0m p_time \u001b[38;5;241m=\u001b[39m \u001b[38;5;28mlist\u001b[39m(\u001b[38;5;28mmap\u001b[39m(\u001b[38;5;28mint\u001b[39m, (\u001b[38;5;28minput\u001b[39m()\u001b[38;5;241m.\u001b[39msplit())))\n\u001b[0;32m      6\u001b[0m p_time\u001b[38;5;241m.\u001b[39msort()\n",
      "\u001b[1;31mValueError\u001b[0m: invalid literal for int() with base 10: ''"
     ]
    }
   ],
   "source": [
    "# 11399 ATM\n",
    "\n",
    "n = int(input())\n",
    "p_time = list(map(int, (input().split())))\n",
    "\n",
    "p_time.sort()\n",
    "\n",
    "time = 0\n",
    "for i in range(len(p_time)):\n",
    "    for j in range(i+1):\n",
    "        time += p_time[j]\n",
    "\n",
    "print(time)\n",
    "\n",
    "###################################################\n",
    "\n",
    "import sys\n",
    "\n",
    "n = sys.stdin.readline()\n",
    "p_time = list(map(int, (sys.stdin.readline().split())))\n",
    "\n",
    "p_time.sort()\n",
    "\n",
    "time = 0\n",
    "for i in range(len(p_time)):\n",
    "    for j in range(i+1):\n",
    "        time += p_time[j]\n",
    "\n",
    "print(time)"
   ]
  },
  {
   "cell_type": "code",
   "execution_count": null,
   "metadata": {},
   "outputs": [
    {
     "name": "stdout",
     "output_type": "stream",
     "text": [
      "5 8\n",
      "10946 17711\n"
     ]
    }
   ],
   "source": [
    "# 1003 피보나치 함수\n",
    "\n",
    "n = int(input())\n",
    "\n",
    "for i in range(n):\n",
    "    num = int(input())\n",
    "    a, b = 1, 0\n",
    "    for j in range(num):\n",
    "        a, b = b, a+b\n",
    "    print(a, b)"
   ]
  },
  {
   "cell_type": "code",
   "execution_count": null,
   "metadata": {},
   "outputs": [
    {
     "name": "stdout",
     "output_type": "stream",
     "text": [
      "12\n",
      "9\n",
      "1\n"
     ]
    }
   ],
   "source": [
    "# 11659 구간 합 구하기 4\n",
    "\n",
    "import sys\n",
    "input = sys.stdin.readline\n",
    "\n",
    "n, m = map(int, input().split())\n",
    "\n",
    "num_list = list(map(int, input().split()))\n",
    "\n",
    "sum = 0\n",
    "sum_list = [0]\n",
    "for num in num_list:\n",
    "    sum += num\n",
    "    sum_list.append(sum)\n",
    "\n",
    "for _ in range(m):\n",
    "    x, y = map(int, input().split())\n",
    "    print(sum_list[y] - sum_list[x-1])"
   ]
  },
  {
   "cell_type": "code",
   "execution_count": 7,
   "metadata": {},
   "outputs": [
    {
     "name": "stdout",
     "output_type": "stream",
     "text": [
      "NO\n",
      "NO\n",
      "NO\n"
     ]
    }
   ],
   "source": [
    "# 9012 괄호\n",
    "\n",
    "n = int(input())\n",
    "\n",
    "\n",
    "for i in range(n):\n",
    "    word = list(input())\n",
    "    count = 0\n",
    "\n",
    "    for j in range(len(word)):\n",
    "        if (word[j] == ('(')):\n",
    "            count += 1\n",
    "        else:\n",
    "            count -= 1\n",
    "\n",
    "        if (count < 0):\n",
    "            print(\"NO\")\n",
    "            break\n",
    "\n",
    "    if (count > 0):\n",
    "        print(\"NO\")\n",
    "    elif (count == 0):\n",
    "        print(\"YES\")\n"
   ]
  },
  {
   "cell_type": "code",
   "execution_count": 4,
   "metadata": {},
   "outputs": [
    {
     "name": "stdout",
     "output_type": "stream",
     "text": [
      "4\n"
     ]
    }
   ],
   "source": [
    "# 2606 바이러스 (DFS)\n",
    "\n",
    "n = int(input()) # 노드 갯수(컴퓨터)\n",
    "v = int(input()) # 엣지 갯수(연결 선)\n",
    "\n",
    "graph = [[] for i in range(n+1)] # 그래프 초기화\n",
    "visited = [0] * (n+1) # 방문한 컴퓨터인지 표시\n",
    "\n",
    "for i in range(v):\n",
    "    a, b = map(int, input().split())\n",
    "    graph[a] += [b] # a에 b 연결\n",
    "    graph[b] += [a] # b에 a 연결 -> 양방향\n",
    "\n",
    "def dfs(num):\n",
    "    visited[num] = 1\n",
    "    \n",
    "    for nx in graph[num]:\n",
    "        if (visited[nx] == 0):\n",
    "            dfs(nx)\n",
    "dfs(1)\n",
    "print(sum(visited) - 1)"
   ]
  },
  {
   "cell_type": "code",
   "execution_count": 3,
   "metadata": {},
   "outputs": [
    {
     "data": {
      "text/plain": [
       "[[], [2, 5], [1, 3, 5], [2], [7], [1, 2, 6], [5], [4]]"
      ]
     },
     "execution_count": 3,
     "metadata": {},
     "output_type": "execute_result"
    }
   ],
   "source": [
    "graph"
   ]
  },
  {
   "cell_type": "code",
   "execution_count": null,
   "metadata": {},
   "outputs": [
    {
     "name": "stdout",
     "output_type": "stream",
     "text": [
      "[[], [2, 5], [1, 3, 5], [2], [7], [1, 2, 6], [5], [4]]\n",
      "deque([])\n",
      "[0, 1, 1, 1, 0, 1, 1, 0]\n"
     ]
    }
   ],
   "source": [
    "# 2606 바이러스 (BFS)\n",
    "\n",
    "from collections import deque\n",
    "\n",
    "n = int(input()) # 노드 갯수(컴퓨터)\n",
    "v = int(input()) # 엣지 갯수(연결 선)\n",
    "\n",
    "graph = [[] for i in range(n+1)] # 그래프 초기화\n",
    "visited = [0] * (n+1) # 방문한 컴퓨터인지 표시\n",
    "\n",
    "for i in range(v):\n",
    "    a, b = map(int, input().split())\n",
    "    graph[a] += [b] # a에 b 연결\n",
    "    graph[b] += [a] # b에 a 연결 -> 양방향\n",
    "\n",
    "visited[1] = 1 # 1번부터 시작이기에 1번 표시\n",
    "Q = deque([1])\n",
    "while Q:\n",
    "    c = Q.popleft()\n",
    "    \n",
    "    for nx in graph[c]:\n",
    "        if (visited[nx] == 0):\n",
    "            Q.append(nx)\n",
    "            visited[nx] = 1\n",
    "\n",
    "print(sum(visited) - 1)"
   ]
  },
  {
   "cell_type": "code",
   "execution_count": 5,
   "metadata": {},
   "outputs": [
    {
     "name": "stdout",
     "output_type": "stream",
     "text": [
      "55\n"
     ]
    }
   ],
   "source": [
    "# 11726 2xn 타일링\n",
    "\n",
    "n = int(input())\n",
    "li = [0] * 1001\n",
    "li[1] = 1\n",
    "li[2] = 2\n",
    "\n",
    "for i in range(3, n+1):\n",
    "    li[i] = (li[i-1] + li[i-2]) % 10007\n",
    "\n",
    "print(li[n])"
   ]
  },
  {
   "cell_type": "code",
   "execution_count": null,
   "metadata": {},
   "outputs": [],
   "source": [
    "import sys\n",
    "input = sys.stdin.readline"
   ]
  },
  {
   "cell_type": "code",
   "execution_count": 13,
   "metadata": {},
   "outputs": [
    {
     "name": "stdout",
     "output_type": "stream",
     "text": [
      "1\n"
     ]
    }
   ],
   "source": [
    "# 1012 유기농 배추\n",
    "\n",
    "from collections import deque\n",
    "\n",
    "# 다음 위치 이동을 위한\n",
    "dx = [-1, 1, 0, 0]\n",
    "dy = [0, 0, -1, 1]\n",
    "\n",
    "T = int(input())\n",
    "\n",
    "for _ in range(T):\n",
    "    M, N, K = map(int, input().split())\n",
    "    li = [[0] * M for _ in range(N)] # 배추 밭 생성성\n",
    "\n",
    "    for _ in range(K):\n",
    "        x, y = map(int, input().split())\n",
    "        li[y][x] = 1 # 배추의 위치 표시시\n",
    "\n",
    "    visited = [[0] * M for _ in range(N)] # 방문 노드 생성\n",
    "    bug = 0 # 벌레의 수\n",
    "    for x in range(N):\n",
    "        for y in range(M):\n",
    "            if (li[x][y] == 1) and (visited[x][y] == 0):\n",
    "                Q = deque() # 큐 생성\n",
    "                Q.append((x, y)) # 현재위치 저장장\n",
    "                \n",
    "                while Q: # 큐가 빌 때 까지\n",
    "                    cx, cy = Q.popleft() # 큐에 저장된 위치치\n",
    "\n",
    "                    for i in range(4): # 좌, 우, 하, 상 순서로 탐색색\n",
    "                        n_x = cx + dx[i]\n",
    "                        n_y = cy + dy[i]\n",
    "\n",
    "                        if (0 <= n_x < N) and (0 <= n_y < M) and (li[n_x][n_y] == 1) and (visited[n_x][n_y] == 0): # next x, y가 배추가 심어져 있고, 방문하지 않은 위치인 경우\n",
    "                            visited[n_x][n_y] = 1\n",
    "                            Q.append((n_x, n_y)) # 큐에 추가하여 탐색을 이어 나간다.\n",
    "\n",
    "                bug += 1\n",
    "\n",
    "    print(bug)"
   ]
  },
  {
   "cell_type": "code",
   "execution_count": null,
   "metadata": {},
   "outputs": [],
   "source": [
    "# 1927 최소 힙\n",
    "\n",
    "import heapq\n",
    "import sys\n",
    "input = sys.stdin.readline\n",
    "\n",
    "N = int(input())\n",
    "\n",
    "li = []\n",
    "for _ in range(N):\n",
    "    num = int(input())\n",
    "\n",
    "    if (num == 0): # 힙 내 최솟값 출력\n",
    "        if (len(li) == 0):\n",
    "            li.append(0)\n",
    "        \n",
    "        # 힙의 형태를 유지하면서 pop\n",
    "        print(heapq.heappop(li))\n",
    "        \n",
    "    else: # 힙의 형태를 유지하면서 push\n",
    "        heapq.heappush(li, num)"
   ]
  }
 ],
 "metadata": {
  "kernelspec": {
   "display_name": "base",
   "language": "python",
   "name": "python3"
  },
  "language_info": {
   "codemirror_mode": {
    "name": "ipython",
    "version": 3
   },
   "file_extension": ".py",
   "mimetype": "text/x-python",
   "name": "python",
   "nbconvert_exporter": "python",
   "pygments_lexer": "ipython3",
   "version": "3.11.9"
  }
 },
 "nbformat": 4,
 "nbformat_minor": 2
}
