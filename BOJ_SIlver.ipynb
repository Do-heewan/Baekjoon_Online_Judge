{
 "cells": [
  {
   "cell_type": "code",
   "execution_count": null,
   "metadata": {},
   "outputs": [
    {
     "name": "stdout",
     "output_type": "stream",
     "text": [
      "v\n",
      "asd\n",
      "qwe\n"
     ]
    }
   ],
   "source": [
    "# 1181 단어 정렬\n",
    "\n",
    "n = int(input())\n",
    "word = []\n",
    "\n",
    "for i in range(n):\n",
    "    word.append(input())\n",
    "\n",
    "set_word = set(word) # 리스트를 집합으로 변환, 중복 제거\n",
    "word = list(set_word) # 집합을 리스트로 변환\n",
    "\n",
    "word.sort()\t# 괄호 안에 아무 값도 넣지 않으면 알파벳 순서대로 정렬을 해 준다.\n",
    "word.sort(key = len) # 문자열 길이 순으로 정렬.\n",
    "\n",
    "for i in word:\n",
    "    print(i)"
   ]
  },
  {
   "cell_type": "code",
   "execution_count": null,
   "metadata": {},
   "outputs": [],
   "source": [
    "# 1181 단어 정렬 (백준 제출용, input() 보다 속도가 훨씬 빠르다.)\n",
    "\n",
    "import sys\n",
    "\n",
    "n = int(sys.stdin.readline())\n",
    "word = []\n",
    "\n",
    "for i in range(n):\n",
    "    word.append(sys.stdin.readline().strip())\n",
    "\n",
    "set_word = set(word) # 리스트를 집합으로 변환, 중복 제거\n",
    "word = list(set_word) # 집합을 리스트로 변환\n",
    "\n",
    "word.sort()\t# 괄호 안에 아무 값도 넣지 않으면 알파벳 순서대로 정렬을 해 준다.\n",
    "word.sort(key = len) # 문자열 길이 순으로 정렬.\n",
    "\n",
    "for i in word:\n",
    "    print(i)"
   ]
  },
  {
   "cell_type": "code",
   "execution_count": null,
   "metadata": {},
   "outputs": [
    {
     "name": "stdout",
     "output_type": "stream",
     "text": [
      "2666\n"
     ]
    }
   ],
   "source": [
    "# 1436 영화감독 슘\n",
    "\n",
    "n = int(input())\n",
    "\n",
    "count = 0\n",
    "num = 666\n",
    "\n",
    "while True:\n",
    "    if (\"666\" in str(num)):\n",
    "        count += 1\n",
    "\n",
    "    if (count == n):\n",
    "        break\n",
    "\n",
    "    num += 1\n",
    "\n",
    "print(num)"
   ]
  },
  {
   "cell_type": "code",
   "execution_count": 9,
   "metadata": {},
   "outputs": [
    {
     "name": "stdout",
     "output_type": "stream",
     "text": [
      "1\n",
      "2\n",
      "2\n",
      "3\n",
      "3\n",
      "4\n",
      "5\n",
      "5\n",
      "7\n",
      "7\n"
     ]
    }
   ],
   "source": [
    "# 2751 수 정렬하기 2\n",
    "\n",
    "n = int(input())\n",
    "\n",
    "lst = []\n",
    "for i in range(n):\n",
    "    num = int(input())\n",
    "    lst.append(num)\n",
    "\n",
    "lst.sort()\n",
    "\n",
    "for i in lst:\n",
    "    print(i)"
   ]
  },
  {
   "cell_type": "code",
   "execution_count": null,
   "metadata": {},
   "outputs": [],
   "source": [
    "# 2751 수 정렬하기 2 (백준 제출)\n",
    "\n",
    "import sys\n",
    "\n",
    "n = int(sys.stdin.readline())\n",
    "\n",
    "lst = []\n",
    "for i in range(n):\n",
    "    num = int(sys.stdin.readline().strip())\n",
    "    lst.append(num)\n",
    "\n",
    "lst.sort()\n",
    "\n",
    "for i in lst:\n",
    "    print(i)"
   ]
  },
  {
   "cell_type": "code",
   "execution_count": 2,
   "metadata": {},
   "outputs": [
    {
     "ename": "ValueError",
     "evalue": "invalid literal for int() with base 10: ''",
     "output_type": "error",
     "traceback": [
      "\u001b[1;31m---------------------------------------------------------------------------\u001b[0m",
      "\u001b[1;31mValueError\u001b[0m                                Traceback (most recent call last)",
      "Cell \u001b[1;32mIn[2], line 3\u001b[0m\n\u001b[0;32m      1\u001b[0m \u001b[38;5;66;03m# 10814 나이순 정렬\u001b[39;00m\n\u001b[1;32m----> 3\u001b[0m n \u001b[38;5;241m=\u001b[39m \u001b[38;5;28mint\u001b[39m(\u001b[38;5;28minput\u001b[39m())\n\u001b[0;32m      5\u001b[0m lst \u001b[38;5;241m=\u001b[39m []\n\u001b[0;32m      6\u001b[0m \u001b[38;5;28;01mfor\u001b[39;00m i \u001b[38;5;129;01min\u001b[39;00m \u001b[38;5;28mrange\u001b[39m(n):\n",
      "\u001b[1;31mValueError\u001b[0m: invalid literal for int() with base 10: ''"
     ]
    }
   ],
   "source": [
    "# 10814 나이순 정렬\n",
    "\n",
    "n = int(input())\n",
    "\n",
    "lst = []\n",
    "for i in range(n):\n",
    "    age, name = input().split()\n",
    "    lst.append([age, name])\n",
    "\n",
    "lst.sort(key = lambda x : int(x[0]))\n",
    "\n",
    "for i in lst:\n",
    "    print(i[0], i[1])"
   ]
  },
  {
   "cell_type": "code",
   "execution_count": null,
   "metadata": {},
   "outputs": [],
   "source": [
    "# 10814 나이순 정렬 (백준 제출)\n",
    "\n",
    "import sys\n",
    "\n",
    "n = int(sys.stdin.readline())\n",
    "\n",
    "lst = []\n",
    "for i in range(n):\n",
    "    [age, name] = sys.stdin.readline().split()\n",
    "    lst.append([age, name])\n",
    "\n",
    "lst.sort(key = lambda x : int(x[0]))\n",
    "\n",
    "for i in lst:\n",
    "    print(i[0], i[1])"
   ]
  }
 ],
 "metadata": {
  "kernelspec": {
   "display_name": "base",
   "language": "python",
   "name": "python3"
  },
  "language_info": {
   "codemirror_mode": {
    "name": "ipython",
    "version": 3
   },
   "file_extension": ".py",
   "mimetype": "text/x-python",
   "name": "python",
   "nbconvert_exporter": "python",
   "pygments_lexer": "ipython3",
   "version": "3.11.9"
  }
 },
 "nbformat": 4,
 "nbformat_minor": 2
}
