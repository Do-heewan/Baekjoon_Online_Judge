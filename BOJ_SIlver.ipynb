{
 "cells": [
  {
   "cell_type": "code",
   "execution_count": null,
   "metadata": {},
   "outputs": [
    {
     "name": "stdout",
     "output_type": "stream",
     "text": [
      "v\n",
      "asd\n",
      "qwe\n"
     ]
    }
   ],
   "source": [
    "# 1181 단어 정렬\n",
    "\n",
    "n = int(input())\n",
    "word = []\n",
    "\n",
    "for i in range(n):\n",
    "    word.append(input())\n",
    "\n",
    "set_word = set(word) # 리스트를 집합으로 변환, 중복 제거\n",
    "word = list(set_word) # 집합을 리스트로 변환\n",
    "\n",
    "word.sort()\t# 괄호 안에 아무 값도 넣지 않으면 알파벳 순서대로 정렬을 해 준다.\n",
    "word.sort(key = len) # 문자열 길이 순으로 정렬.\n",
    "\n",
    "for i in word:\n",
    "    print(i)"
   ]
  },
  {
   "cell_type": "code",
   "execution_count": null,
   "metadata": {},
   "outputs": [],
   "source": [
    "# 1181 단어 정렬 (백준 제출용, input() 보다 속도가 훨씬 빠르다.)\n",
    "\n",
    "import sys\n",
    "\n",
    "n = int(sys.stdin.readline())\n",
    "word = []\n",
    "\n",
    "for i in range(n):\n",
    "    word.append(sys.stdin.readline().strip())\n",
    "\n",
    "set_word = set(word) # 리스트를 집합으로 변환, 중복 제거\n",
    "word = list(set_word) # 집합을 리스트로 변환\n",
    "\n",
    "word.sort()\t# 괄호 안에 아무 값도 넣지 않으면 알파벳 순서대로 정렬을 해 준다.\n",
    "word.sort(key = len) # 문자열 길이 순으로 정렬.\n",
    "\n",
    "for i in word:\n",
    "    print(i)"
   ]
  },
  {
   "cell_type": "code",
   "execution_count": null,
   "metadata": {},
   "outputs": [
    {
     "name": "stdout",
     "output_type": "stream",
     "text": [
      "2666\n"
     ]
    }
   ],
   "source": [
    "# 1436 영화감독 슘\n",
    "\n",
    "n = int(input())\n",
    "\n",
    "count = 0\n",
    "num = 666\n",
    "\n",
    "while True:\n",
    "    if (\"666\" in str(num)):\n",
    "        count += 1\n",
    "\n",
    "    if (count == n):\n",
    "        break\n",
    "\n",
    "    num += 1\n",
    "\n",
    "print(num)"
   ]
  },
  {
   "cell_type": "code",
   "execution_count": 9,
   "metadata": {},
   "outputs": [
    {
     "name": "stdout",
     "output_type": "stream",
     "text": [
      "1\n",
      "2\n",
      "2\n",
      "3\n",
      "3\n",
      "4\n",
      "5\n",
      "5\n",
      "7\n",
      "7\n"
     ]
    }
   ],
   "source": [
    "# 2751 수 정렬하기 2\n",
    "\n",
    "n = int(input())\n",
    "\n",
    "lst = []\n",
    "for i in range(n):\n",
    "    num = int(input())\n",
    "    lst.append(num)\n",
    "\n",
    "lst.sort()\n",
    "\n",
    "for i in lst:\n",
    "    print(i)"
   ]
  },
  {
   "cell_type": "code",
   "execution_count": null,
   "metadata": {},
   "outputs": [],
   "source": [
    "# 2751 수 정렬하기 2 (백준 제출)\n",
    "\n",
    "import sys\n",
    "\n",
    "n = int(sys.stdin.readline())\n",
    "\n",
    "lst = []\n",
    "for i in range(n):\n",
    "    num = int(sys.stdin.readline().strip())\n",
    "    lst.append(num)\n",
    "\n",
    "lst.sort()\n",
    "\n",
    "for i in lst:\n",
    "    print(i)"
   ]
  },
  {
   "cell_type": "code",
   "execution_count": 2,
   "metadata": {},
   "outputs": [
    {
     "ename": "ValueError",
     "evalue": "invalid literal for int() with base 10: ''",
     "output_type": "error",
     "traceback": [
      "\u001b[1;31m---------------------------------------------------------------------------\u001b[0m",
      "\u001b[1;31mValueError\u001b[0m                                Traceback (most recent call last)",
      "Cell \u001b[1;32mIn[2], line 3\u001b[0m\n\u001b[0;32m      1\u001b[0m \u001b[38;5;66;03m# 10814 나이순 정렬\u001b[39;00m\n\u001b[1;32m----> 3\u001b[0m n \u001b[38;5;241m=\u001b[39m \u001b[38;5;28mint\u001b[39m(\u001b[38;5;28minput\u001b[39m())\n\u001b[0;32m      5\u001b[0m lst \u001b[38;5;241m=\u001b[39m []\n\u001b[0;32m      6\u001b[0m \u001b[38;5;28;01mfor\u001b[39;00m i \u001b[38;5;129;01min\u001b[39;00m \u001b[38;5;28mrange\u001b[39m(n):\n",
      "\u001b[1;31mValueError\u001b[0m: invalid literal for int() with base 10: ''"
     ]
    }
   ],
   "source": [
    "# 10814 나이순 정렬\n",
    "\n",
    "n = int(input())\n",
    "\n",
    "lst = []\n",
    "for i in range(n):\n",
    "    age, name = input().split()\n",
    "    lst.append([age, name])\n",
    "\n",
    "lst.sort(key = lambda x : int(x[0]))\n",
    "\n",
    "for i in lst:\n",
    "    print(i[0], i[1])"
   ]
  },
  {
   "cell_type": "code",
   "execution_count": null,
   "metadata": {},
   "outputs": [],
   "source": [
    "# 10814 나이순 정렬 (백준 제출)\n",
    "\n",
    "import sys\n",
    "\n",
    "n = int(sys.stdin.readline())\n",
    "\n",
    "lst = []\n",
    "for i in range(n):\n",
    "    [age, name] = sys.stdin.readline().split()\n",
    "    lst.append([age, name])\n",
    "\n",
    "lst.sort(key = lambda x : int(x[0]))\n",
    "\n",
    "for i in lst:\n",
    "    print(i[0], i[1])"
   ]
  },
  {
   "cell_type": "code",
   "execution_count": null,
   "metadata": {},
   "outputs": [
    {
     "ename": "TypeError",
     "evalue": "'>' not supported between instances of 'list' and 'int'",
     "output_type": "error",
     "traceback": [
      "\u001b[1;31m---------------------------------------------------------------------------\u001b[0m",
      "\u001b[1;31mTypeError\u001b[0m                                 Traceback (most recent call last)",
      "Cell \u001b[1;32mIn[14], line 11\u001b[0m\n\u001b[0;32m      7\u001b[0m     num \u001b[38;5;241m=\u001b[39m \u001b[38;5;28mint\u001b[39m(\u001b[38;5;28minput\u001b[39m())\n\u001b[0;32m      8\u001b[0m     count[num] \u001b[38;5;241m+\u001b[39m\u001b[38;5;241m=\u001b[39m \u001b[38;5;241m1\u001b[39m\n\u001b[1;32m---> 11\u001b[0m \u001b[38;5;28;01mif\u001b[39;00m (count \u001b[38;5;241m>\u001b[39m \u001b[38;5;241m0\u001b[39m):\n\u001b[0;32m     12\u001b[0m     \u001b[38;5;28;01mfor\u001b[39;00m j \u001b[38;5;129;01min\u001b[39;00m \u001b[38;5;28mrange\u001b[39m(\u001b[38;5;28mlen\u001b[39m(count)):\n\u001b[0;32m     13\u001b[0m         \u001b[38;5;28mprint\u001b[39m(j)\n",
      "\u001b[1;31mTypeError\u001b[0m: '>' not supported between instances of 'list' and 'int'"
     ]
    }
   ],
   "source": [
    "# 10989 수 정렬하기 3\n",
    "\n",
    "import sys\n",
    "\n",
    "n = int(sys.stdin.readline().rstrip())\n",
    "\n",
    "count = [0] * 10001 # 0 ~ 10000 까지의 인덱스 번호를 가지는 배열\n",
    "for i in range(n):\n",
    "    num = int(sys.stdin.readline().rstrip())\n",
    "    count[num] += 1 # 입력 받은 숫자에 해당하는 인덱스를 증가시킴\n",
    "\n",
    "for j in range(len(count)):\n",
    "    if (count[j] > 0): # 앞서 입력 받은 인덱스만 추림\n",
    "        for k in range(count[j]): # 몇 번 출력할 것인가\n",
    "            print(j)"
   ]
  },
  {
   "cell_type": "code",
   "execution_count": null,
   "metadata": {},
   "outputs": [],
   "source": [
    "# 1676 팩토리얼 0의 갯수\n",
    "\n",
    "n = int(input())\n",
    "cnt = 0\n",
    "\n",
    "while(n > 1):\n",
    "    cnt += n // 5\n",
    "    n = n // 5\n",
    "\n",
    "print(cnt)"
   ]
  },
  {
   "cell_type": "code",
   "execution_count": 12,
   "metadata": {},
   "outputs": [
    {
     "name": "stdout",
     "output_type": "stream",
     "text": [
      "1 -1\n",
      "1 1\n",
      "2 1\n",
      "2 3\n",
      "4 5\n"
     ]
    }
   ],
   "source": [
    "# 11650 좌표 정렬하기\n",
    "\n",
    "n = int(input())\n",
    "\n",
    "li = []\n",
    "for i in range(n):\n",
    "    [h, w] = input().split()\n",
    "    li.append([h, w])\n",
    "\n",
    "li.sort(key = lambda x : (int(x[0]), int(x[1])))\n",
    "\n",
    "for j in li:\n",
    "    print(j[0], j[1])"
   ]
  },
  {
   "cell_type": "code",
   "execution_count": null,
   "metadata": {},
   "outputs": [],
   "source": [
    "import sys\n",
    "\n",
    "n = int(sys.stdin.readline().rstrip())\n",
    "\n",
    "lst = []\n",
    "for i in range(n):\n",
    "    [height, weight] = sys.stdin.readline().split()\n",
    "    lst.append([height, weight])\n",
    "\n",
    "lst.sort(key = lambda x : (int(x[0]), int(x[1])))\n",
    "\n",
    "for j in lst:\n",
    "    print(j[0], j[1])"
   ]
  },
  {
   "cell_type": "code",
   "execution_count": 13,
   "metadata": {},
   "outputs": [
    {
     "name": "stdout",
     "output_type": "stream",
     "text": [
      "1 -1\n",
      "1 2\n",
      "2 2\n",
      "3 3\n",
      "0 4\n"
     ]
    }
   ],
   "source": [
    "# 11651 좌표 정렬하기 2\n",
    "\n",
    "n = int(input())\n",
    "\n",
    "li = []\n",
    "for i in range(n):\n",
    "    [h, w] = input().split()\n",
    "    li.append([h, w])\n",
    "\n",
    "li.sort(key = lambda x : (int(x[1]), int(x[0])))\n",
    "\n",
    "for j in li:\n",
    "    print(j[0], j[1])"
   ]
  },
  {
   "cell_type": "code",
   "execution_count": null,
   "metadata": {},
   "outputs": [],
   "source": [
    "import sys\n",
    "\n",
    "n = int(sys.stdin.readline().rstrip())\n",
    "\n",
    "lst = []\n",
    "for i in range(n):\n",
    "    [height, weight] = sys.stdin.readline().split()\n",
    "    lst.append([height, weight])\n",
    "\n",
    "lst.sort(key = lambda x : (int(x[1]), int(x[0])))\n",
    "\n",
    "for j in lst:\n",
    "    print(j[0], j[1])"
   ]
  },
  {
   "cell_type": "code",
   "execution_count": null,
   "metadata": {},
   "outputs": [],
   "source": [
    "# 11723 집합\n",
    "# Cursor AI\n",
    "\n",
    "import sys\n",
    "input = sys.stdin.readline\n",
    "\n",
    "n = int(input())\n",
    "s = set()\n",
    "\n",
    "for _ in range(n):\n",
    "    cmd = input().strip().split()\n",
    "    \n",
    "    if len(cmd) == 1:  # all 또는 empty 명령어\n",
    "        if cmd[0] == \"all\":\n",
    "            s = set(range(1, 21))\n",
    "        else:  # empty\n",
    "            s = set()\n",
    "        continue\n",
    "        \n",
    "    op, x = cmd[0], int(cmd[1])  # 명령어와 숫자를 분리\n",
    "    \n",
    "    if op == \"add\":\n",
    "        s.add(x)\n",
    "    elif op == \"remove\":\n",
    "        s.discard(x)\n",
    "    elif op == \"check\":\n",
    "        print(1 if x in s else 0)\n",
    "    elif op == \"toggle\":\n",
    "        if x in s:\n",
    "            s.discard(x)\n",
    "        else:\n",
    "            s.add(x)"
   ]
  },
  {
   "cell_type": "code",
   "execution_count": null,
   "metadata": {},
   "outputs": [
    {
     "name": "stdout",
     "output_type": "stream",
     "text": [
      "2\n",
      "ba\n",
      "oh\n"
     ]
    }
   ],
   "source": [
    "# 1764 듣보잡\n",
    "\n",
    "import sys\n",
    "\n",
    "n, m = map(int, (sys.stdin.readline().split()))\n",
    "\n",
    "# set 생성\n",
    "n_list = set()\n",
    "m_list = set()\n",
    "\n",
    "for i in range(n):\n",
    "    name1 = sys.stdin.readline().rstrip()\n",
    "    n_list.add(name1)\n",
    "for j in range(m):\n",
    "    name2 = sys.stdin.readline().rstrip()\n",
    "    m_list.add(name2)\n",
    "\n",
    "sum_list = n_list & m_list # 교집합\n",
    "print(len(sum_list))\n",
    "\n",
    "sum_list = list(sum_list) # 리스트 변환 후 정렬\n",
    "sum_list.sort()\n",
    "for k in sum_list: # 원소 출력\n",
    "    print(k)"
   ]
  },
  {
   "cell_type": "code",
   "execution_count": null,
   "metadata": {},
   "outputs": [
    {
     "name": "stdout",
     "output_type": "stream",
     "text": [
      "2 1\n",
      "3 1\n",
      "4 2\n",
      "5 3\n",
      "6 2\n",
      "7 3\n",
      "8 3\n",
      "9 2\n",
      "10 3\n",
      "3\n"
     ]
    }
   ],
   "source": [
    "# 1463 1로 만들기\n",
    "\n",
    "n = int(input())\n",
    "\n",
    "d = [0] * (n + 1) # 입력 수의 크기 리스트 생성\n",
    "for i in range(2, n + 1):\n",
    "    d[i] = d[i - 1] + 1 # 1을 뺀 경우\n",
    "    if i % 3 == 0:\n",
    "        d[i] = min(d[i], d[i // 3] + 1) # 3으로 나누었을 때와 1을 뺏을 때의 연산 횟수 비교\n",
    "    if i % 2 == 0:\n",
    "        d[i] = min(d[i], d[i // 2] + 1) # 2로 나누었을 때와 1을 뺏을 때의 연산 횟수 비교\n",
    "\n",
    "print(d[n])"
   ]
  },
  {
   "cell_type": "code",
   "execution_count": null,
   "metadata": {},
   "outputs": [
    {
     "name": "stdout",
     "output_type": "stream",
     "text": [
      "1\n",
      "2\n",
      "4\n",
      "7\n",
      "13\n",
      "24\n",
      "44\n",
      "81\n",
      "149\n",
      "274\n"
     ]
    }
   ],
   "source": [
    "# 9095 1, 2, 3 더하기\n",
    "\n",
    "n = int(input())\n",
    "\n",
    "for T in range(n):\n",
    "    n, i = int(input()), 4\n",
    "    plus = [None, 1, 2, 4]\n",
    "\n",
    "    while i <= n:\n",
    "        plus.append(plus[i - 1] + plus[i - 2] + plus[i - 3]) # 리스트의 이전 인덱스들의 합\n",
    "        i += 1\n",
    "\n",
    "    print(plus[n])"
   ]
  },
  {
   "cell_type": "code",
   "execution_count": null,
   "metadata": {},
   "outputs": [
    {
     "ename": "ValueError",
     "evalue": "invalid literal for int() with base 10: ''",
     "output_type": "error",
     "traceback": [
      "\u001b[1;31m---------------------------------------------------------------------------\u001b[0m",
      "\u001b[1;31mValueError\u001b[0m                                Traceback (most recent call last)",
      "Cell \u001b[1;32mIn[8], line 3\u001b[0m\n\u001b[0;32m      1\u001b[0m \u001b[38;5;66;03m# 11399 ATM\u001b[39;00m\n\u001b[1;32m----> 3\u001b[0m n \u001b[38;5;241m=\u001b[39m \u001b[38;5;28mint\u001b[39m(\u001b[38;5;28minput\u001b[39m())\n\u001b[0;32m      4\u001b[0m p_time \u001b[38;5;241m=\u001b[39m \u001b[38;5;28mlist\u001b[39m(\u001b[38;5;28mmap\u001b[39m(\u001b[38;5;28mint\u001b[39m, (\u001b[38;5;28minput\u001b[39m()\u001b[38;5;241m.\u001b[39msplit())))\n\u001b[0;32m      6\u001b[0m p_time\u001b[38;5;241m.\u001b[39msort()\n",
      "\u001b[1;31mValueError\u001b[0m: invalid literal for int() with base 10: ''"
     ]
    }
   ],
   "source": [
    "# 11399 ATM\n",
    "\n",
    "n = int(input())\n",
    "p_time = list(map(int, (input().split())))\n",
    "\n",
    "p_time.sort()\n",
    "\n",
    "time = 0\n",
    "for i in range(len(p_time)):\n",
    "    for j in range(i+1):\n",
    "        time += p_time[j]\n",
    "\n",
    "print(time)\n",
    "\n",
    "###################################################\n",
    "\n",
    "import sys\n",
    "\n",
    "n = sys.stdin.readline()\n",
    "p_time = list(map(int, (sys.stdin.readline().split())))\n",
    "\n",
    "p_time.sort()\n",
    "\n",
    "time = 0\n",
    "for i in range(len(p_time)):\n",
    "    for j in range(i+1):\n",
    "        time += p_time[j]\n",
    "\n",
    "print(time)"
   ]
  },
  {
   "cell_type": "code",
   "execution_count": null,
   "metadata": {},
   "outputs": [
    {
     "name": "stdout",
     "output_type": "stream",
     "text": [
      "5 8\n",
      "10946 17711\n"
     ]
    }
   ],
   "source": [
    "# 1003 피보나치 함수\n",
    "\n",
    "n = int(input())\n",
    "\n",
    "for i in range(n):\n",
    "    num = int(input())\n",
    "    a, b = 1, 0\n",
    "    for j in range(num):\n",
    "        a, b = b, a+b\n",
    "    print(a, b)"
   ]
  },
  {
   "cell_type": "code",
   "execution_count": null,
   "metadata": {},
   "outputs": [
    {
     "name": "stdout",
     "output_type": "stream",
     "text": [
      "12\n",
      "9\n",
      "1\n"
     ]
    }
   ],
   "source": [
    "# 11659 구간 합 구하기 4\n",
    "\n",
    "import sys\n",
    "input = sys.stdin.readline\n",
    "\n",
    "n, m = map(int, input().split())\n",
    "\n",
    "num_list = list(map(int, input().split()))\n",
    "\n",
    "sum = 0\n",
    "sum_list = [0]\n",
    "for num in num_list:\n",
    "    sum += num\n",
    "    sum_list.append(sum)\n",
    "\n",
    "for _ in range(m):\n",
    "    x, y = map(int, input().split())\n",
    "    print(sum_list[y] - sum_list[x-1])"
   ]
  },
  {
   "cell_type": "code",
   "execution_count": 7,
   "metadata": {},
   "outputs": [
    {
     "name": "stdout",
     "output_type": "stream",
     "text": [
      "NO\n",
      "NO\n",
      "NO\n"
     ]
    }
   ],
   "source": [
    "# 9012 괄호\n",
    "\n",
    "n = int(input())\n",
    "\n",
    "\n",
    "for i in range(n):\n",
    "    word = list(input())\n",
    "    count = 0\n",
    "\n",
    "    for j in range(len(word)):\n",
    "        if (word[j] == ('(')):\n",
    "            count += 1\n",
    "        else:\n",
    "            count -= 1\n",
    "\n",
    "        if (count < 0):\n",
    "            print(\"NO\")\n",
    "            break\n",
    "\n",
    "    if (count > 0):\n",
    "        print(\"NO\")\n",
    "    elif (count == 0):\n",
    "        print(\"YES\")\n"
   ]
  },
  {
   "cell_type": "code",
   "execution_count": 4,
   "metadata": {},
   "outputs": [
    {
     "name": "stdout",
     "output_type": "stream",
     "text": [
      "4\n"
     ]
    }
   ],
   "source": [
    "# 2606 바이러스 (DFS)\n",
    "\n",
    "n = int(input()) # 노드 갯수(컴퓨터)\n",
    "v = int(input()) # 엣지 갯수(연결 선)\n",
    "\n",
    "graph = [[] for i in range(n+1)] # 그래프 초기화\n",
    "visited = [0] * (n+1) # 방문한 컴퓨터인지 표시\n",
    "\n",
    "for i in range(v):\n",
    "    a, b = map(int, input().split())\n",
    "    graph[a] += [b] # a에 b 연결\n",
    "    graph[b] += [a] # b에 a 연결 -> 양방향\n",
    "\n",
    "def dfs(num):\n",
    "    visited[num] = 1\n",
    "    \n",
    "    for nx in graph[num]:\n",
    "        if (visited[nx] == 0):\n",
    "            dfs(nx)\n",
    "dfs(1)\n",
    "print(sum(visited) - 1)"
   ]
  },
  {
   "cell_type": "code",
   "execution_count": null,
   "metadata": {},
   "outputs": [
    {
     "name": "stdout",
     "output_type": "stream",
     "text": [
      "[[], [2, 5], [1, 3, 5], [2], [7], [1, 2, 6], [5], [4]]\n",
      "deque([])\n",
      "[0, 1, 1, 1, 0, 1, 1, 0]\n"
     ]
    }
   ],
   "source": [
    "# 2606 바이러스 (BFS)\n",
    "\n",
    "from collections import deque\n",
    "\n",
    "n = int(input()) # 노드 갯수(컴퓨터)\n",
    "v = int(input()) # 엣지 갯수(연결 선)\n",
    "\n",
    "graph = [[] for i in range(n+1)] # 그래프 초기화\n",
    "visited = [0] * (n+1) # 방문한 컴퓨터인지 표시\n",
    "\n",
    "for i in range(v):\n",
    "    a, b = map(int, input().split())\n",
    "    graph[a] += [b] # a에 b 연결\n",
    "    graph[b] += [a] # b에 a 연결 -> 양방향\n",
    "\n",
    "visited[1] = 1 # 1번부터 시작이기에 1번 표시\n",
    "Q = deque([1])\n",
    "while Q:\n",
    "    c = Q.popleft()\n",
    "    \n",
    "    for nx in graph[c]:\n",
    "        if (visited[nx] == 0):\n",
    "            Q.append(nx)\n",
    "            visited[nx] = 1\n",
    "\n",
    "print(sum(visited) - 1)"
   ]
  },
  {
   "cell_type": "code",
   "execution_count": 5,
   "metadata": {},
   "outputs": [
    {
     "name": "stdout",
     "output_type": "stream",
     "text": [
      "55\n"
     ]
    }
   ],
   "source": [
    "# 11726 2xn 타일링\n",
    "\n",
    "n = int(input())\n",
    "li = [0] * 1001\n",
    "li[1] = 1\n",
    "li[2] = 2\n",
    "\n",
    "for i in range(3, n+1):\n",
    "    li[i] = (li[i-1] + li[i-2]) % 10007\n",
    "\n",
    "print(li[n])"
   ]
  },
  {
   "cell_type": "code",
   "execution_count": null,
   "metadata": {},
   "outputs": [],
   "source": [
    "import sys\n",
    "input = sys.stdin.readline"
   ]
  },
  {
   "cell_type": "code",
   "execution_count": 13,
   "metadata": {},
   "outputs": [
    {
     "name": "stdout",
     "output_type": "stream",
     "text": [
      "1\n"
     ]
    }
   ],
   "source": [
    "# 1012 유기농 배추\n",
    "\n",
    "from collections import deque\n",
    "\n",
    "# 다음 위치 이동을 위한\n",
    "dx = [-1, 1, 0, 0]\n",
    "dy = [0, 0, -1, 1]\n",
    "\n",
    "T = int(input())\n",
    "\n",
    "for _ in range(T):\n",
    "    M, N, K = map(int, input().split())\n",
    "    li = [[0] * M for _ in range(N)] # 배추 밭 생성성\n",
    "\n",
    "    for _ in range(K):\n",
    "        x, y = map(int, input().split())\n",
    "        li[y][x] = 1 # 배추의 위치 표시시\n",
    "\n",
    "    visited = [[0] * M for _ in range(N)] # 방문 노드 생성\n",
    "    bug = 0 # 벌레의 수\n",
    "    for x in range(N):\n",
    "        for y in range(M):\n",
    "            if (li[x][y] == 1) and (visited[x][y] == 0):\n",
    "                Q = deque() # 큐 생성\n",
    "                Q.append((x, y)) # 현재위치 저장장\n",
    "                \n",
    "                while Q: # 큐가 빌 때 까지\n",
    "                    cx, cy = Q.popleft() # 큐에 저장된 위치치\n",
    "\n",
    "                    for i in range(4): # 좌, 우, 하, 상 순서로 탐색색\n",
    "                        n_x = cx + dx[i]\n",
    "                        n_y = cy + dy[i]\n",
    "\n",
    "                        if (0 <= n_x < N) and (0 <= n_y < M) and (li[n_x][n_y] == 1) and (visited[n_x][n_y] == 0): # next x, y가 배추가 심어져 있고, 방문하지 않은 위치인 경우\n",
    "                            visited[n_x][n_y] = 1\n",
    "                            Q.append((n_x, n_y)) # 큐에 추가하여 탐색을 이어 나간다.\n",
    "\n",
    "                bug += 1\n",
    "\n",
    "    print(bug)"
   ]
  },
  {
   "cell_type": "code",
   "execution_count": null,
   "metadata": {},
   "outputs": [],
   "source": [
    "# 1927 최소 힙\n",
    "\n",
    "import heapq\n",
    "import sys\n",
    "\n",
    "input = sys.stdin.readline\n",
    "\n",
    "N = int(input())\n",
    "\n",
    "li = []\n",
    "for _ in range(N):\n",
    "    num = int(input())\n",
    "\n",
    "    if (num == 0): # 힙 내 최솟값 출력\n",
    "        if (len(li) == 0):\n",
    "            li.append(0)\n",
    "        \n",
    "        # 힙의 형태를 유지하면서 pop\n",
    "        print(heapq.heappop(li))\n",
    "        \n",
    "    else: # 힙의 형태를 유지하면서 push\n",
    "        heapq.heappush(li, num)"
   ]
  },
  {
   "cell_type": "code",
   "execution_count": 7,
   "metadata": {},
   "outputs": [
    {
     "name": "stdout",
     "output_type": "stream",
     "text": [
      "2\n"
     ]
    }
   ],
   "source": [
    "# 11724  연결 요소의 개수 (BFS)\n",
    "\n",
    "from collections import deque\n",
    "import sys\n",
    "\n",
    "input = sys.stdin.readline\n",
    "\n",
    "N, M = map(int, input().split())\n",
    "\n",
    "graph = [[] for _ in range(N+1)] # 그래프 초기화\n",
    "visited = [False] * (N+1) # 방문 여부\n",
    "count = 0 # 트리 탐색\n",
    "\n",
    "for _ in range(M):\n",
    "    a, b = map(int, input().split())\n",
    "    graph[a] += [b] # a에 b 연결\n",
    "    graph[b] += [a] # b에 a 연결 -> 양방향\n",
    "\n",
    "# 넓이 우선 탐색\n",
    "def bfs(start_v, visited):\n",
    "    Q = deque([start_v])\n",
    "\n",
    "    while Q:\n",
    "        c = Q.popleft()\n",
    "\n",
    "        for nx in graph[c]:\n",
    "            if not (visited[nx]):\n",
    "                visited[nx] = True\n",
    "                Q.append(nx)\n",
    "\n",
    "    return 1 # 트리 탐색을 마치면 1을 반환\n",
    "\n",
    "for i in range(1, N+1):\n",
    "    if not (visited[i]):\n",
    "        count += bfs(i, visited)\n",
    "\n",
    "print(count)"
   ]
  },
  {
   "cell_type": "code",
   "execution_count": 8,
   "metadata": {},
   "outputs": [
    {
     "name": "stdout",
     "output_type": "stream",
     "text": [
      "2\n"
     ]
    }
   ],
   "source": [
    "# 11724  연결 요소의 개수 (DFS)\n",
    "\n",
    "import sys\n",
    "sys.setrecursionlimit(100000)\n",
    "\n",
    "input = sys.stdin.readline\n",
    "\n",
    "N, M = map(int, input().split())\n",
    "\n",
    "graph = [[] for _ in range(N+1)] # 그래프 초기화\n",
    "visited = [False] * (N+1) # 방문 여부\n",
    "count = 0 # 트리 탐색\n",
    "\n",
    "for _ in range(M):\n",
    "    a, b = map(int, input().split())\n",
    "    graph[a] += [b] # a에 b 연결\n",
    "    graph[b] += [a] # b에 a 연결 -> 양방향\n",
    "\n",
    "# 깊이 우선 탐색(재귀 함수)\n",
    "def dfs(start_v, visited):\n",
    "    visited[start_v] = True\n",
    "\n",
    "    for nx in graph[start_v]:\n",
    "        if not (visited[nx]):\n",
    "            dfs(nx, visited)\n",
    "\n",
    "    return 1 # 트리 탐색을 마치면 1을 반환\n",
    "\n",
    "for i in range(1, N+1):\n",
    "    if not (visited[i]):\n",
    "        count += dfs(i, visited)\n",
    "\n",
    "print(count)"
   ]
  },
  {
   "cell_type": "code",
   "execution_count": null,
   "metadata": {},
   "outputs": [
    {
     "name": "stdout",
     "output_type": "stream",
     "text": [
      "7\n",
      "9\n"
     ]
    }
   ],
   "source": [
    "# 2630 색종이 만들기\n",
    "\n",
    "N = int(input())\n",
    "\n",
    "mat = []\n",
    "for _ in range(N):\n",
    "    element = list(map(int, input().split()))\n",
    "    mat.append(element)\n",
    "\n",
    "blue = 0\n",
    "white = 0\n",
    "\n",
    "def check(x, y, n):\n",
    "    global blue\n",
    "    global white\n",
    "    ch = mat[x][y] # 현재 위치의 색깔\n",
    "\n",
    "    for i in range(x, x+n):\n",
    "        for j in range(y, y+n):\n",
    "\n",
    "            if (ch != mat[i][j]): # 처음의 색과 달라지면 1/4 등분\n",
    "                check(x, y, n//2)\n",
    "                check(x + n//2, y, n//2)\n",
    "                check(x, y + n//2, n//2)\n",
    "                check(x + n//2, y + n//2, n//2)\n",
    "                return # 리턴을 통해 함수를 종료\n",
    "            \n",
    "    if (ch == 1):\n",
    "        blue += 1\n",
    "    else:\n",
    "        white += 1\n",
    "\n",
    "check(0, 0, N)\n",
    "print(white)\n",
    "print(blue)"
   ]
  },
  {
   "cell_type": "code",
   "execution_count": null,
   "metadata": {},
   "outputs": [],
   "source": [
    "import sys\n",
    "\n",
    "input = sys.stdin.readline"
   ]
  },
  {
   "cell_type": "code",
   "execution_count": 1,
   "metadata": {},
   "outputs": [
    {
     "name": "stdout",
     "output_type": "stream",
     "text": [
      "15\n"
     ]
    }
   ],
   "source": [
    "# 2905 나무 자르기\n",
    "\n",
    "N, M = map(int, input().split())\n",
    "tree = list(map(int, input().split()))\n",
    "\n",
    "m_tree = max(tree)\n",
    "result = [0] * (N)\n",
    "while(1):\n",
    "    for i in range(len(tree)):\n",
    "        result[i] = max(tree[i] - m_tree, 0)\n",
    "    \n",
    "    if (sum(result) >= M):\n",
    "        break\n",
    "\n",
    "    m_tree -= 1\n",
    "\n",
    "print(m_tree)"
   ]
  },
  {
   "cell_type": "code",
   "execution_count": 17,
   "metadata": {},
   "outputs": [
    {
     "name": "stdout",
     "output_type": "stream",
     "text": [
      "15\n"
     ]
    }
   ],
   "source": [
    "# 2905 나무 자르기\n",
    "\n",
    "N, M = map(int, input().split())\n",
    "tree = list(map(int, input().split()))\n",
    "start, end = 1, max(tree)\n",
    "\n",
    "# 이분 탐색\n",
    "while (start <= end):\n",
    "    mid = (start + end) // 2\n",
    "\n",
    "    # 현재 얻은 나무의 길이\n",
    "    wood = 0\n",
    "    for i in tree:\n",
    "        if (i > mid): # 나무의 길이가 중앙값보다 크다면\n",
    "            wood += (i - mid) # 나무를 잘라 냄\n",
    "\n",
    "    if (wood >= M): # 처음 설정한 중앙값 기준으로 얻은 나무의 길이가 원하는 길이보다 길다면면\n",
    "        start = mid + 1 # 시작점을 조절하여 중앙값을 다시 조절하도록 함\n",
    "    else: # 아닐경우\n",
    "        end = mid - 1 # 끝점을 조절하여 중앙값을 다시 조절하도록 함\n",
    "\n",
    "print(end) # while문 종료 후 end 값이 최대 나무의 길이가 된다."
   ]
  },
  {
   "cell_type": "code",
   "execution_count": null,
   "metadata": {},
   "outputs": [],
   "source": [
    "# 2776 암기왕\n",
    "\n",
    "import sys\n",
    "\n",
    "input = sys.stdin.readline\n",
    "T = int(input())\n",
    "\n",
    "# 탐색 메소드\n",
    "def search(num, li, e):\n",
    "    start, end = 0, e-1 # 시작값, 끝값 설정\n",
    "    \n",
    "    while (start <= end):\n",
    "        mid = (start + end) // 2 # 이진 탐색을 위한 중앙값\n",
    "        if (num == li[mid]): # 일치하는 경우\n",
    "            print(1)\n",
    "            break\n",
    "        else: # 일치하지 않은 경우, case에 따라 시작값, 끝값을 조정\n",
    "            if (num > li[mid]):\n",
    "                start = mid + 1\n",
    "            else:\n",
    "                end = mid - 1\n",
    "        \n",
    "        # 시작값 또는 끝값이 중앙값과 같다 -> 탐색을 끝까지 진행하였다.\n",
    "        if (start == mid) or (end == mid):\n",
    "            print(0)\n",
    "            break\n",
    "\n",
    "for _ in range(T):\n",
    "    # 정답 리스트\n",
    "    n = int(input())\n",
    "    n_list = list(map(int, input().split()))\n",
    "\n",
    "    # 답안지 리스트\n",
    "    m = int(input())\n",
    "    m_list = list(map(int, input().split()))\n",
    "\n",
    "    n_list.sort()\n",
    "\n",
    "    for ix in m_list: # 답안지 리스트 탐색\n",
    "        search(ix, n_list, n)"
   ]
  },
  {
   "cell_type": "code",
   "execution_count": null,
   "metadata": {},
   "outputs": [],
   "source": [
    "import sys\n",
    "\n",
    "input = sys.stdin.readline"
   ]
  },
  {
   "cell_type": "code",
   "execution_count": 13,
   "metadata": {},
   "outputs": [
    {
     "name": "stdout",
     "output_type": "stream",
     "text": [
      "200\n"
     ]
    }
   ],
   "source": [
    "# 1654 랜선 자르기\n",
    "\n",
    "K, N = map(int, input().split())\n",
    "\n",
    "rope = [] # 랜선의 길이 저장\n",
    "for _ in range(K):\n",
    "    length = int(input())\n",
    "    rope.append(length)\n",
    "\n",
    "start, end = 1, max(rope)\n",
    "\n",
    "while (start <= end):\n",
    "    mid = (start + end) // 2\n",
    "\n",
    "    num_rope = [] # 자른 후의 랜선의 개수 저장\n",
    "    for i in rope:\n",
    "        num_rope.append(i // mid)\n",
    "        \n",
    "    if (sum(num_rope) < N): # 랜선의 개수가 필요 랜선의 개수보다 작을 경우\n",
    "        end = mid - 1 # mid값을 조정하여 더 잘개 자르도록 조정\n",
    "    elif (sum(num_rope) >= N): # 랜선의 개수가 필요 랜선의 개수보다 클 경우\n",
    "        start = mid + 1 # mid값을 조정하여 덜 잘개 자르도록 조정\n",
    "\n",
    "print(end) # start값이 end값보다 커질 때, while문이 종료되고 이때의 end값이 최대 길이가 된다."
   ]
  },
  {
   "cell_type": "code",
   "execution_count": 32,
   "metadata": {},
   "outputs": [
    {
     "name": "stdout",
     "output_type": "stream",
     "text": [
      "3\n",
      "2\n",
      "4\n",
      "2\n",
      "0\n"
     ]
    }
   ],
   "source": [
    "# 11663 선분 위의 점 (메모리초과)\n",
    "\n",
    "N, M = map(int, input().split())\n",
    "\n",
    "point = list(map(int, input().split()))\n",
    "point.sort()\n",
    "\n",
    "def search(num, start, end):\n",
    "    global count\n",
    "    lst = [i for i in range(end+1)]\n",
    "\n",
    "    while (start <= end):\n",
    "        mid = (start + end) // 2\n",
    "\n",
    "        if (num == lst[mid]):\n",
    "            count += 1\n",
    "            break\n",
    "        \n",
    "        else:\n",
    "            if (num < lst[mid]):\n",
    "                end = mid - 1\n",
    "            else:\n",
    "                start = mid + 1\n",
    "        \n",
    "        if (start == mid) or (end == mid):\n",
    "            break\n",
    "\n",
    "for _ in range(M):\n",
    "    a, b = map(int, input().split())\n",
    "    \n",
    "    count = 0\n",
    "    for ix in point:\n",
    "        search(ix, a, b)\n",
    "    print(count)"
   ]
  },
  {
   "cell_type": "code",
   "execution_count": null,
   "metadata": {},
   "outputs": [],
   "source": [
    "import sys\n",
    "\n",
    "input = sys.stdin.readline"
   ]
  },
  {
   "cell_type": "code",
   "execution_count": 34,
   "metadata": {},
   "outputs": [
    {
     "name": "stdout",
     "output_type": "stream",
     "text": [
      "5\n"
     ]
    }
   ],
   "source": [
    "# 11663 선분 위의 점\n",
    "\n",
    "N, M = map(int, input().split())\n",
    "\n",
    "point = list(map(int, input().split()))\n",
    "point.sort()\n",
    "\n",
    "def dot_min(a):  # 선분 중 가장 작은 점 구하기 \n",
    "    start = 0\n",
    "    end = N - 1\n",
    "\n",
    "    while (start <= end):\n",
    "        mid = (start + end) // 2\n",
    "\n",
    "        if (a > point[mid]):\n",
    "            start = mid + 1\n",
    "        else:\n",
    "            end = mid - 1\n",
    "\n",
    "    return end\n",
    "\n",
    "def dot_max(b):   # 선분 중 가장 큰 점 구하기\n",
    "    start = 0\n",
    "    end = N - 1\n",
    "\n",
    "    while (start <= end):\n",
    "        mid = (start + end) // 2\n",
    "\n",
    "        if (b < point[mid]):\n",
    "            end = mid - 1\n",
    "        else:\n",
    "            start = mid + 1\n",
    "\n",
    "    return end\n",
    "\n",
    "for _ in range(M):\n",
    "    a, b = map(int, input().split())\n",
    "    print(dot_max(b) - dot_min(a))"
   ]
  }
 ],
 "metadata": {
  "kernelspec": {
   "display_name": "base",
   "language": "python",
   "name": "python3"
  },
  "language_info": {
   "codemirror_mode": {
    "name": "ipython",
    "version": 3
   },
   "file_extension": ".py",
   "mimetype": "text/x-python",
   "name": "python",
   "nbconvert_exporter": "python",
   "pygments_lexer": "ipython3",
   "version": "3.11.9"
  }
 },
 "nbformat": 4,
 "nbformat_minor": 2
}
